{
 "cells": [
  {
   "cell_type": "markdown",
   "metadata": {},
   "source": [
    "# RulER: Scaling Up Record-level Matching Rules"
   ]
  },
  {
   "cell_type": "markdown",
   "metadata": {},
   "source": [
    "# Preparing data for RulER "
   ]
  },
  {
   "cell_type": "code",
   "execution_count": 1,
   "metadata": {},
   "outputs": [],
   "source": [
    "import RulER.Commons.implicits\n",
    "import RulER.Commons.implicits._\n",
    "import RulER.DataStructure.Rule\n",
    "import RulER.DataStructure.ThresholdTypes.ED\n",
    "import RulER.DataStructure.ThresholdTypes.JS\n",
    "import RulER.Commons.CommonFunctions.loadProfilesAsDF\n",
    "import RulER.SimJoins.EDJoin.EDJoin\n",
    "import RulER.SimJoins.PPJoin.PPJoin\n",
    "import java.util.Calendar"
   ]
  },
  {
   "cell_type": "code",
   "execution_count": 2,
   "metadata": {},
   "outputs": [
    {
     "data": {
      "text/plain": [
       "imdb = [_rowId: bigint, _c0: string ... 12 more fields]\n"
      ]
     },
     "metadata": {},
     "output_type": "display_data"
    },
    {
     "data": {
      "text/plain": [
       "[_rowId: bigint, _c0: string ... 12 more fields]"
      ]
     },
     "execution_count": 2,
     "metadata": {},
     "output_type": "execute_result"
    }
   ],
   "source": [
    "//Load the dataset\n",
    "val imdb = loadProfilesAsDF(\"imdb.csv\")"
   ]
  },
  {
   "cell_type": "code",
   "execution_count": 3,
   "metadata": {},
   "outputs": [
    {
     "data": {
      "text/html": [
       "<table><tr><th>_rowId</th><th>_c0</th><th>imdbid</th><th>title</th><th>year</th><th>genres</th><th>director</th><th>writer</th><th>cast</th><th>runtime</th><th>country</th><th>language</th><th>rating</th><th>plot</th></tr><tr><td>0</td><td>0</td><td>2399574</td><td># (2012)</td><td>2012</td><td>Short, Comedy</td><td>Zak Longo</td><td>Eddie Klein</td><td>Bianca Siavoshy (Allison), Rhoda Pell (Sarah), Eugene Kim (Adam), Maronzio Vance (Buster), Eddie Klein (Dave)</td><td>15</td><td>USA</td><td>English</td><td>null</td><td>After too many beers, Adam leaves the worst voice-mail in the history of voice-mails for the girl of his dreams</td></tr></table>"
      ]
     },
     "execution_count": 3,
     "metadata": {},
     "output_type": "execute_result"
    }
   ],
   "source": [
    "%%dataframe --limit 1\n",
    "imdb"
   ]
  },
  {
   "cell_type": "markdown",
   "metadata": {},
   "source": [
    "# Defining a rule\n",
    "First, we define a complex rule to find the matches"
   ]
  },
  {
   "cell_type": "code",
   "execution_count": 4,
   "metadata": {},
   "outputs": [
    {
     "data": {
      "text/plain": [
       "rule = (title,JS,0.8 AND director,JS,0.7) OR (title,ED,3.0 AND cast,JS,0.7) OR (country,ED,2.0 AND plot,JS,0.8)\n"
      ]
     },
     "metadata": {},
     "output_type": "display_data"
    },
    {
     "data": {
      "text/plain": [
       "r1: RulER.DataStructure.Rule = title,JS,0.8\r\n",
       "r2: RulER.DataStructure.Rule = title,ED,3.0\r\n",
       "r3: RulER.DataStructure.Rule = director,JS,0.7\r\n",
       "r4: RulER.DataStructure.Rule = cast,JS,0.7\r\n",
       "r5: RulER.DataStructure.Rule = country,ED,2.0\r\n",
       "r6: RulER.DataStructure.Rule = plot,JS,0.8\r\n"
      ]
     },
     "metadata": {},
     "output_type": "display_data"
    },
    {
     "data": {
      "text/plain": [
       "(title,JS,0.8 AND director,JS,0.7) OR (title,ED,3.0 AND cast,JS,0.7) OR (country,ED,2.0 AND plot,JS,0.8)"
      ]
     },
     "execution_count": 4,
     "metadata": {},
     "output_type": "execute_result"
    }
   ],
   "source": [
    "//Predicates\n",
    "val r1 = Rule(\"title\", JS, 0.8)\n",
    "val r2 = Rule(\"title\", ED, 3)\n",
    "val r3 = Rule(\"director\", JS, 0.7)\n",
    "val r4 = Rule(\"cast\", JS, 0.7)\n",
    "val r5 = Rule(\"country\", ED, 2)\n",
    "val r6 = Rule(\"plot\", JS, 0.8)\n",
    "\n",
    "//Rule\n",
    "val rule = (r1 and r3) or (r2 and r4) or (r5 and r6)"
   ]
  },
  {
   "cell_type": "markdown",
   "metadata": {},
   "source": [
    "# Running the rule by using existing algorithms\n",
    "By using the existing algorithms (e.g. PPJoin, EDJoin) it is possible to execute the rule as a combination of intersections and unions"
   ]
  },
  {
   "cell_type": "code",
   "execution_count": 5,
   "metadata": {},
   "outputs": [
    {
     "name": "stdout",
     "output_type": "stream",
     "text": [
      "[Stage 75:==================================================>   (186 + 8) / 200]Execution time (s) 80.837\n"
     ]
    },
    {
     "data": {
      "text/plain": [
       "tEnd = 1585158892902\n"
      ]
     },
     "metadata": {},
     "output_type": "display_data"
    },
    {
     "data": {
      "text/plain": [
       "tStart: Long = 1585158812065\r\n",
       "and1: org.apache.spark.sql.Dataset[org.apache.spark.sql.Row] = [id1: bigint, id2: bigint]\r\n",
       "and2: org.apache.spark.sql.Dataset[org.apache.spark.sql.Row] = [id1: bigint, id2: bigint]\r\n",
       "and3: org.apache.spark.sql.Dataset[org.apache.spark.sql.Row] = [id1: bigint, id2: bigint]\r\n",
       "res: org.apache.spark.sql.Dataset[org.apache.spark.sql.Row] = [id1: bigint, id2: bigint]\r\n",
       "tmp: org.apache.spark.sql.DataFrame = [_rowId: bigint, _c0: string ... 14 more fields]\r\n",
       "results: org.apache.spark.sql.DataFrame = [_rowId: bigint, _c0: string ... 28 more fields]\r\n"
      ]
     },
     "metadata": {},
     "output_type": "display_data"
    },
    {
     "data": {
      "text/plain": [
       "1585158892902"
      ]
     },
     "execution_count": 5,
     "metadata": {},
     "output_type": "execute_result"
    }
   ],
   "source": [
    "val tStart = Calendar.getInstance().getTimeInMillis\n",
    "\n",
    "//Obtaining the matches with PPJoin/EDJoin\n",
    "val and1 = PPJoin(imdb, r1).intersect(PPJoin(imdb, r3))\n",
    "val and2 = EDJoin(imdb, r2).intersect(PPJoin(imdb, r4))\n",
    "val and3 = EDJoin(imdb, r5).intersect(PPJoin(imdb, r6))\n",
    "\n",
    "//Final results\n",
    "val res = and1.union(and2).union(and3).distinct()\n",
    "val tmp = imdb.join(res, imdb(\"_rowId\") === res(\"id1\"))\n",
    "val results = imdb.join(tmp, tmp(\"id2\") === imdb(\"_rowId\"))\n",
    "results.cache()\n",
    "results.count()\n",
    "val tEnd = Calendar.getInstance().getTimeInMillis\n",
    "println(\"Execution time (s) \"+(tEnd-tStart)/1000.0)"
   ]
  },
  {
   "cell_type": "code",
   "execution_count": 6,
   "metadata": {
    "scrolled": true
   },
   "outputs": [
    {
     "data": {
      "text/html": [
       "<table><tr><th>_rowId</th><th>_c0</th><th>imdbid</th><th>title</th><th>year</th><th>genres</th><th>director</th><th>writer</th><th>cast</th><th>runtime</th><th>country</th><th>language</th><th>rating</th><th>plot</th><th>_rowId</th><th>_c0</th><th>imdbid</th><th>title</th><th>year</th><th>genres</th><th>director</th><th>writer</th><th>cast</th><th>runtime</th><th>country</th><th>language</th><th>rating</th><th>plot</th><th>id1</th><th>id2</th></tr><tr><td>270</td><td>270</td><td>3520062</td><td>\"3 Minute Update, The\" February 7, 2014 (2014)</td><td>2014</td><td>News</td><td>null</td><td>null</td><td>Kalena Liane (Celebrity Host)</td><td>null</td><td>null</td><td>null</td><td>null</td><td>SPORTS Jay-Z: From Hip Hop Icon to Sports Agent! First, he was a Hip Hop Icon, then he took over the fashion world, now the Icon known as Jay-Z is looking to take over the sports world. Here's how Jay-Z went from Hip Hop Icon to Sports Agent. TECHNOLOGY The Amazing Amazon: Amazon keeps growing to the point where they dictate market growth, technology and even the US Postal Service's schedule</td><td>144</td><td>144</td><td>3486534</td><td>\"3 Minute Update, The\" January 23, 2014 (2014)</td><td>2014</td><td>News</td><td>null</td><td>null</td><td>Kalena Liane (Celebrity Host)</td><td>null</td><td>null</td><td>null</td><td>null</td><td>Justin Bieber's Bad Boy Recap. Catch up on the roller-coaster ride that led to Justin Bieber's arrest. 3 Minute Update recaps Justin's Bad Boy moments. Strippers, Drugs, and the Biebs...Oh...My... SPORTS The Road to Super Bowl XLVIII.The Road to Super Bowl XLVIII has been riddled with injuries and upsets. Lets take a look back at the NFL stories that built the road to Super Bowl XLVIII. This video includes: Peyton Manning's on going ankle injuries, The Dallas Cowboy's epic collapse, Seattle Seahawks wide receiver woes, Adrian Foster's failed season, and Aaron Rodger's season ending injury. Top Fashion Icons never sleep, so while you were nodding off, here's an update on the movers and shakers in the fashion world. This update Includes: Chanel's Karl Lagerfeld's legal issues, John Galliano's comeback, New Jackie Kennedy letters, Victoria and David Beckham's new fashion lines, and Giorgio Armani's new real estate venture</td><td>144</td><td>270</td></tr></table>"
      ]
     },
     "execution_count": 6,
     "metadata": {},
     "output_type": "execute_result"
    }
   ],
   "source": [
    "%%dataframe --limit 1\n",
    "results"
   ]
  },
  {
   "cell_type": "markdown",
   "metadata": {},
   "source": [
    "# Running the rule by using RulER"
   ]
  },
  {
   "cell_type": "code",
   "execution_count": 7,
   "metadata": {},
   "outputs": [
    {
     "name": "stdout",
     "output_type": "stream",
     "text": [
      "Execution time (s) 13.28                                                        \n"
     ]
    },
    {
     "data": {
      "text/plain": [
       "tEnd = 1585158961803\n"
      ]
     },
     "metadata": {},
     "output_type": "display_data"
    },
    {
     "data": {
      "text/plain": [
       "tStart: Long = 1585158948523\r\n",
       "results: org.apache.spark.sql.DataFrame = [_rowId: bigint, _c0: string ... 28 more fields]\r\n"
      ]
     },
     "metadata": {},
     "output_type": "display_data"
    },
    {
     "data": {
      "text/plain": [
       "1585158961803"
      ]
     },
     "execution_count": 7,
     "metadata": {},
     "output_type": "execute_result"
    }
   ],
   "source": [
    "val tStart = Calendar.getInstance().getTimeInMillis\n",
    "val results = imdb.joinWithRules(imdb, rule)\n",
    "results.count()\n",
    "val tEnd = Calendar.getInstance().getTimeInMillis\n",
    "println(\"Execution time (s) \"+(tEnd-tStart)/1000.0)"
   ]
  },
  {
   "cell_type": "code",
   "execution_count": 8,
   "metadata": {},
   "outputs": [
    {
     "data": {
      "text/html": [
       "<table><tr><th>_rowId</th><th>_c0</th><th>imdbid</th><th>title</th><th>year</th><th>genres</th><th>director</th><th>writer</th><th>cast</th><th>runtime</th><th>country</th><th>language</th><th>rating</th><th>plot</th><th>_rowId</th><th>_c0</th><th>imdbid</th><th>title</th><th>year</th><th>genres</th><th>director</th><th>writer</th><th>cast</th><th>runtime</th><th>country</th><th>language</th><th>rating</th><th>plot</th><th>id1</th><th>id2</th></tr><tr><td>844</td><td>844</td><td>4184766</td><td>#seguiilconiglio (I) (2014)</td><td>2014</td><td>Short, Horror</td><td>Luigi Pietrobono</td><td>Luigi Pietrobono</td><td>Roberto Luigi Mauri (Kid)</td><td>9::(original release)</td><td>Italy</td><td>Italian, English</td><td>null</td><td>A journey into the psyche in search of happiness, where fact and fiction are at the same level as hidden as Chinese boxes</td><td>843</td><td>843</td><td>4184842</td><td>#seguiilconiglio (II) (2014)</td><td>2014</td><td>Short, Horror</td><td>Luigi Pietrobono</td><td>Luigi Pietrobono</td><td>Roberto Luigi Mauri (Kid)</td><td>9::(original release)</td><td>Italy</td><td>Italian, English</td><td>null</td><td>A journey into the psyche in search of happiness, where fact and fiction are at the same level as hidden as Chinese boxes</td><td>843</td><td>844</td></tr></table>"
      ]
     },
     "execution_count": 8,
     "metadata": {},
     "output_type": "execute_result"
    }
   ],
   "source": [
    "%%dataframe --limit 1\n",
    "results"
   ]
  },
  {
   "cell_type": "markdown",
   "metadata": {},
   "source": [
    "# Join multiple datasets example"
   ]
  },
  {
   "cell_type": "code",
   "execution_count": 9,
   "metadata": {},
   "outputs": [
    {
     "data": {
      "text/plain": [
       "roger_ebert = [_rowId: bigint, id: string ... 7 more fields]\n"
      ]
     },
     "metadata": {},
     "output_type": "display_data"
    },
    {
     "data": {
      "text/plain": [
       "[_rowId: bigint, id: string ... 7 more fields]"
      ]
     },
     "execution_count": 9,
     "metadata": {},
     "output_type": "execute_result"
    }
   ],
   "source": [
    "val roger_ebert = loadProfilesAsDF(\"roger_ebert.csv\")"
   ]
  },
  {
   "cell_type": "code",
   "execution_count": 10,
   "metadata": {},
   "outputs": [
    {
     "data": {
      "text/plain": [
       "rotten_tomatoes = [_rowId: bigint, Id: string ... 16 more fields]\n"
      ]
     },
     "metadata": {},
     "output_type": "display_data"
    },
    {
     "data": {
      "text/plain": [
       "[_rowId: bigint, Id: string ... 16 more fields]"
      ]
     },
     "execution_count": 10,
     "metadata": {},
     "output_type": "execute_result"
    }
   ],
   "source": [
    "val rotten_tomatoes = loadProfilesAsDF(\"rotten_tomatoes.csv\")"
   ]
  },
  {
   "cell_type": "code",
   "execution_count": 11,
   "metadata": {},
   "outputs": [
    {
     "data": {
      "text/html": [
       "<table><tr><th>_rowId</th><th>id</th><th>movie_name</th><th>year</th><th>directors</th><th>actors</th><th>movie_rating</th><th>genre</th><th>duration</th></tr><tr><td>0</td><td>0</td><td>High-Rise</td><td>2015</td><td>Ben Wheatley</td><td>Tom Hiddleston, Jeremy Irons, Sienna Miller</td><td>6.8</td><td>Action, Drama, Sci-Fi</td><td>112 min </td></tr></table>"
      ]
     },
     "execution_count": 11,
     "metadata": {},
     "output_type": "execute_result"
    }
   ],
   "source": [
    "%%dataframe --limit 1\n",
    "roger_ebert"
   ]
  },
  {
   "cell_type": "code",
   "execution_count": 12,
   "metadata": {},
   "outputs": [
    {
     "data": {
      "text/html": [
       "<table><tr><th>_rowId</th><th>Id</th><th>Name</th><th>Year</th><th>Release Date</th><th>Director</th><th>Creator</th><th>Actors</th><th>Cast</th><th>Language</th><th>Country</th><th>Duration</th><th>RatingValue</th><th>RatingCount</th><th>ReviewCount</th><th>Genre</th><th>Filming Locations</th><th>Description</th></tr><tr><td>0</td><td>tt0054215</td><td>Psycho</td><td>1960</td><td>8 September 1960 (USA)</td><td>Alfred Hitchcock</td><td>Joseph Stefano,Robert Bloch</td><td>Anthony Perkins,Janet Leigh,Vera Miles</td><td>Anthony Perkins,Vera Miles,John Gavin,Janet Leigh,Martin Balsam,John McIntire,Simon Oakland,Frank Albertson,Patricia Hitchcock,Vaughn Taylor,Lurene Tuttle,John Anderson,Mort Mills</td><td>English</td><td>USA</td><td>109 min</td><td>8.6</td><td>379,998</td><td>976 user,290 critic</td><td>Horror,Mystery,Thriller</td><td>Title and Trust Building, 114 West Adams Street, downtown Phoenix, Arizona, USA</td><td>A Phoenix secretary steals $40,000 from her employer's client, goes on the run and checks into a remote motel run by a young man under the domination of his mother.</td></tr></table>"
      ]
     },
     "execution_count": 12,
     "metadata": {},
     "output_type": "execute_result"
    }
   ],
   "source": [
    "%%dataframe --limit 1\n",
    "rotten_tomatoes"
   ]
  },
  {
   "cell_type": "markdown",
   "metadata": {},
   "source": [
    "# Defining the rule"
   ]
  },
  {
   "cell_type": "code",
   "execution_count": 13,
   "metadata": {},
   "outputs": [
    {
     "data": {
      "text/plain": [
       "rule = (movie_name,JS,0.8 AND actors,JS,0.5) OR (movie_name,JS,0.8 AND directors,ED,2.0)\n"
      ]
     },
     "metadata": {},
     "output_type": "display_data"
    },
    {
     "data": {
      "text/plain": [
       "r1: RulER.DataStructure.Rule = movie_name,JS,0.8\r\n",
       "r2: RulER.DataStructure.Rule = actors,JS,0.5\r\n",
       "r3: RulER.DataStructure.Rule = directors,ED,2.0\r\n"
      ]
     },
     "metadata": {},
     "output_type": "display_data"
    },
    {
     "data": {
      "text/plain": [
       "(movie_name,JS,0.8 AND actors,JS,0.5) OR (movie_name,JS,0.8 AND directors,ED,2.0)"
      ]
     },
     "execution_count": 13,
     "metadata": {},
     "output_type": "execute_result"
    }
   ],
   "source": [
    "val r1 = Rule(\"movie_name\", JS, 0.8, \"Name\")\n",
    "val r2 = Rule(\"actors\", JS, 0.5, \"Actors\")\n",
    "val r3 = Rule(\"directors\", ED, 2, \"Director\")\n",
    "\n",
    "val rule = (r1 and r2) or (r1 and r3)"
   ]
  },
  {
   "cell_type": "markdown",
   "metadata": {},
   "source": [
    "# Join the datasets by using the rule"
   ]
  },
  {
   "cell_type": "code",
   "execution_count": 15,
   "metadata": {},
   "outputs": [
    {
     "name": "stdout",
     "output_type": "stream",
     "text": [
      "[Stage 174:======================================>                  (2 + 1) / 3]"
     ]
    },
    {
     "data": {
      "text/plain": [
       "matches = [_rowId: bigint, Id: string ... 27 more fields]\n"
      ]
     },
     "metadata": {},
     "output_type": "display_data"
    },
    {
     "data": {
      "text/plain": [
       "[_rowId: bigint, Id: string ... 27 more fields]"
      ]
     },
     "execution_count": 15,
     "metadata": {},
     "output_type": "execute_result"
    }
   ],
   "source": [
    "val matches = roger_ebert.joinWithRules(rotten_tomatoes, rule)"
   ]
  },
  {
   "cell_type": "code",
   "execution_count": 16,
   "metadata": {},
   "outputs": [
    {
     "data": {
      "text/html": [
       "<table><tr><th>_rowId</th><th>Id</th><th>Name</th><th>Year</th><th>Release Date</th><th>Director</th><th>Creator</th><th>Actors</th><th>Cast</th><th>Language</th><th>Country</th><th>Duration</th><th>RatingValue</th><th>RatingCount</th><th>ReviewCount</th><th>Genre</th><th>Filming Locations</th><th>Description</th><th>_rowId</th><th>id</th><th>movie_name</th><th>year</th><th>directors</th><th>actors</th><th>movie_rating</th><th>genre</th><th>duration</th><th>id1</th><th>id2</th></tr><tr><td>26</td><td>tt0120611</td><td>Blade</td><td>1998</td><td>21 August 1998 (USA)</td><td>Stephen Norrington</td><td>David S. Goyer</td><td>Wesley Snipes,Stephen Dorff,Kris Kristofferson</td><td>Wesley Snipes,Stephen Dorff,Kris Kristofferson,N'Bushe Wright,Donal Logue,Udo Kier,Arly Jover,Traci Lords,Kevin Patrick Walls,Tim Guinee,Sanaa Lathan,Eric Edwards,Donna Wong,Carmen Thomas,Shannon Lee</td><td>English,Russian</td><td>USA</td><td>120 min</td><td>7.1</td><td>176,103</td><td>572 user,179 critic</td><td>Action,Horror</td><td>Long Beach, California, USA</td><td>A half-vampire, half-mortal man becomes a protector of the mortal race, while slaying evil vampires.</td><td>3415</td><td>3415</td><td>Blade</td><td>1998</td><td>Stephen Norrington</td><td>Wesley Snipes, Stephen Dorff, Kris Kristofferson</td><td>7.1</td><td>Action, Horror</td><td>120 min </td><td>3415</td><td>26</td></tr></table>"
      ]
     },
     "execution_count": 16,
     "metadata": {},
     "output_type": "execute_result"
    }
   ],
   "source": [
    "%%dataframe --limit 1\n",
    "matches"
   ]
  },
  {
   "cell_type": "code",
   "execution_count": null,
   "metadata": {},
   "outputs": [],
   "source": []
  }
 ],
 "metadata": {
  "kernelspec": {
   "display_name": "Apache Toree - Scala",
   "language": "scala",
   "name": "apache_toree_scala"
  },
  "language_info": {
   "codemirror_mode": "text/x-scala",
   "file_extension": ".scala",
   "mimetype": "text/x-scala",
   "name": "scala",
   "pygments_lexer": "scala",
   "version": "2.11.12"
  }
 },
 "nbformat": 4,
 "nbformat_minor": 2
}
